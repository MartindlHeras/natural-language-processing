{
 "cells": [
  {
   "cell_type": "markdown",
   "id": "c0f7f62f-6457-420c-9e3e-ae7042abfd19",
   "metadata": {},
   "source": [
    "# Sentiment Analysis con SVM\n",
    "Vamos a realizar un análisis de sentimiento sobre tweets utilizando un modelo Bag of Words con máquina de vectores de soporte.\n",
    "\n",
    "Usaremos el dataset de Twitter de [NLTK](http://www.nltk.org) para preprocesar los tweets.\n",
    "\n",
    "Probaremos a contar tokens con CountVectorizer de [Scikit-learn](https://scikit-learn.org/stable/modules/generated/sklearn.feature_extraction.text.CountVectorizer.html) y a calcular coeficientes TF-IDF con TfidfVectorizer de [Scikit-learn](https://scikit-learn.org/stable/modules/generated/sklearn.feature_extraction.text.TfidfVectorizer.html).\n",
    "\n",
    "Finalmente constuiremos un modelo de máquina de vectores de soporte y lo utilizaremos para hacer análsis de sentimiento sobre los tweets."
   ]
  },
  {
   "cell_type": "markdown",
   "id": "205b0f15-1cc1-4596-9f47-459198d69c3a",
   "metadata": {},
   "source": [
    "## Dataset"
   ]
  },
  {
   "cell_type": "code",
   "execution_count": 3,
   "id": "a44f6942-3414-4f26-bb8a-5deab070dd9e",
   "metadata": {},
   "outputs": [],
   "source": [
    "import nltk\n",
    "from nltk.corpus import twitter_samples\n",
    "import numpy as np"
   ]
  },
  {
   "cell_type": "code",
   "execution_count": 4,
   "id": "d6bb043e-d1a4-4f30-b63b-a4a95c559b5d",
   "metadata": {},
   "outputs": [
    {
     "name": "stderr",
     "output_type": "stream",
     "text": [
      "[nltk_data] Downloading package twitter_samples to\n",
      "[nltk_data]     C:\\Users\\Marti\\AppData\\Roaming\\nltk_data...\n",
      "[nltk_data]   Unzipping corpora\\twitter_samples.zip.\n"
     ]
    },
    {
     "data": {
      "text/plain": [
       "True"
      ]
     },
     "execution_count": 4,
     "metadata": {},
     "output_type": "execute_result"
    }
   ],
   "source": [
    "nltk.download('twitter_samples')"
   ]
  },
  {
   "cell_type": "code",
   "execution_count": 5,
   "id": "605f9882-eaf3-4269-9413-7d06b0063279",
   "metadata": {},
   "outputs": [],
   "source": [
    "all_positive_tweets = twitter_samples.strings('positive_tweets.json')\n",
    "all_negative_tweets = twitter_samples.strings('negative_tweets.json')\n",
    "tweets = all_positive_tweets + all_negative_tweets\n",
    "labels = np.append(np.ones((len(all_positive_tweets))), np.zeros((len(all_negative_tweets))))"
   ]
  },
  {
   "cell_type": "markdown",
   "id": "d7977fc8-dae2-42ea-a5db-6a6a1f7446bf",
   "metadata": {},
   "source": [
    "## Preprocesamiento"
   ]
  },
  {
   "cell_type": "code",
   "execution_count": 9,
   "id": "92271cfc-e8b1-4e67-a314-ebcbec3453ff",
   "metadata": {},
   "outputs": [],
   "source": [
    "from sklearn.feature_extraction.text import CountVectorizer"
   ]
  },
  {
   "cell_type": "code",
   "execution_count": 10,
   "id": "c88dac94-95b3-45f5-9131-ec3f77e0cfa1",
   "metadata": {},
   "outputs": [
    {
     "data": {
      "text/plain": [
       "array(['02392441234', '15', '97sides', 'able', 'accnt', 'act', 'am',\n",
       "       'amazing', 'an', 'and', 'app', 'are', 'as', 'assist', 'bayan',\n",
       "       'be', 'being', 'bhaktisbanter', 'bleed', 'blue', 'but', 'buying',\n",
       "       'bye', 'call', 'calling', 'centre', 'co', 'community', 'congrats',\n",
       "       'contact', 'customers', 'days', 'dd', 'despiteofficial', 'don',\n",
       "       'ebz0l2venm', 'engaged', 'enjoy', 'enough', 'entering', 'etl',\n",
       "       'fb', 'flipkartfashionfriday', 'followfriday', 'for',\n",
       "       'france_inte', 'friday', 'go', 'got', 'had', 'happy', 'has',\n",
       "       'have', 'hey', 'hope', 'house', 'how', 'http', 'https',\n",
       "       'impatientraider', 'implies', 'in', 'irresistible', 'is', 'james',\n",
       "       'jgh', 'just', 'katamari', 'keep', 'lamb2ja', 'last', 'layer',\n",
       "       'like', 'listen', 'long', 'lovely', 'lwwf', 'many', 'mark',\n",
       "       'members', 'milipol_paris', 'mischievousness', 'must', 'my',\n",
       "       'name', 'new', 'night', 'not', 'odd', 'of', 'on', 'one', 'our',\n",
       "       'pallaviruhail', 'pkuchly57', 'please', 'profile', 'rqst',\n",
       "       'scotland', 'second', 'sheep', 'shorts', 'smyyriipxi', 'succeed',\n",
       "       'system', 'thanks', 'the', 'there', 'this', 'thought', 'tick',\n",
       "       'time', 'to', 'top', 'track', 'verified', 'waiting', 'warehousing',\n",
       "       'we', 'week', 'well', 'when', 'will', 'yeaaaah', 'yippppy', 'you'],\n",
       "      dtype=object)"
      ]
     },
     "execution_count": 10,
     "metadata": {},
     "output_type": "execute_result"
    }
   ],
   "source": [
    "vectorizer = CountVectorizer(analyzer='word', ngram_range=(1, 1))\n",
    "X = vectorizer.fit_transform(tweets[:10])\n",
    "vectorizer.get_feature_names_out()"
   ]
  },
  {
   "cell_type": "code",
   "execution_count": 11,
   "id": "c347c3d7-07e9-4ca1-bbe5-955b20b8051c",
   "metadata": {},
   "outputs": [
    {
     "name": "stdout",
     "output_type": "stream",
     "text": [
      "[[0 0 0 ... 0 0 0]\n",
      " [1 0 0 ... 0 0 1]\n",
      " [0 0 0 ... 0 0 2]\n",
      " ...\n",
      " [0 0 0 ... 0 0 0]\n",
      " [0 0 0 ... 0 0 0]\n",
      " [0 0 0 ... 0 0 0]]\n"
     ]
    }
   ],
   "source": [
    "print(X.toarray())"
   ]
  },
  {
   "cell_type": "code",
   "execution_count": 12,
   "id": "6db6d81e-985a-4db0-a2a1-34502d48010e",
   "metadata": {},
   "outputs": [],
   "source": [
    "from sklearn.feature_extraction.text import TfidfVectorizer"
   ]
  },
  {
   "cell_type": "code",
   "execution_count": 13,
   "id": "701211b8-9dc2-45b1-a864-33c5dbffeaa2",
   "metadata": {},
   "outputs": [
    {
     "name": "stdout",
     "output_type": "stream",
     "text": [
      "(10, 126)\n"
     ]
    }
   ],
   "source": [
    "vectorizer = TfidfVectorizer()\n",
    "X = vectorizer.fit_transform(tweets[:10])\n",
    "vectorizer.get_feature_names_out()\n",
    "print(X.shape)"
   ]
  },
  {
   "cell_type": "code",
   "execution_count": 14,
   "id": "b3d034d5-da39-4ab7-b885-d9cd8e392f52",
   "metadata": {},
   "outputs": [
    {
     "data": {
      "text/plain": [
       "array([[0.        , 0.        , 0.        , ..., 0.        , 0.        ,\n",
       "        0.        ],\n",
       "       [0.2271999 , 0.        , 0.        , ..., 0.        , 0.        ,\n",
       "        0.16897527],\n",
       "       [0.        , 0.        , 0.        , ..., 0.        , 0.        ,\n",
       "        0.368937  ],\n",
       "       ...,\n",
       "       [0.        , 0.        , 0.        , ..., 0.        , 0.        ,\n",
       "        0.        ],\n",
       "       [0.        , 0.        , 0.        , ..., 0.        , 0.        ,\n",
       "        0.        ],\n",
       "       [0.        , 0.        , 0.        , ..., 0.        , 0.        ,\n",
       "        0.        ]])"
      ]
     },
     "execution_count": 14,
     "metadata": {},
     "output_type": "execute_result"
    }
   ],
   "source": [
    "X.toarray()"
   ]
  },
  {
   "cell_type": "markdown",
   "id": "9454e8c9-93dd-4d79-9da9-5db9de872136",
   "metadata": {},
   "source": [
    "## Entrenamiento y evaluación del modelo"
   ]
  },
  {
   "cell_type": "code",
   "execution_count": 15,
   "id": "fbbc0a5e-5a25-47d7-b230-4c283555ee6c",
   "metadata": {},
   "outputs": [],
   "source": [
    "from sklearn.svm import SVC\n",
    "from sklearn.model_selection import train_test_split\n",
    "from sklearn.pipeline import Pipeline"
   ]
  },
  {
   "cell_type": "code",
   "execution_count": 16,
   "id": "5150db73-7a6e-4267-a496-29472158d868",
   "metadata": {},
   "outputs": [],
   "source": [
    "X = tweets\n",
    "y = labels\n",
    "X_train, X_test, y_train, y_test = train_test_split(X, y, test_size=0.2, stratify=y)"
   ]
  },
  {
   "cell_type": "code",
   "execution_count": 17,
   "id": "840aed8f-a119-4654-ae88-1a7a80b34d71",
   "metadata": {},
   "outputs": [
    {
     "name": "stdout",
     "output_type": "stream",
     "text": [
      "0.7825\n"
     ]
    }
   ],
   "source": [
    "estimator = Pipeline([(\"cv\", CountVectorizer(ngram_range=(1, 2))), (\"svm\", SVC())])\n",
    "estimator.fit(X_train, y_train)\n",
    "score = estimator.score(X_test, y_test)\n",
    "print(score)"
   ]
  },
  {
   "cell_type": "code",
   "execution_count": 18,
   "id": "4b5671da-81ef-45e0-8a19-9188f2fe6e30",
   "metadata": {},
   "outputs": [
    {
     "name": "stdout",
     "output_type": "stream",
     "text": [
      "0.804\n"
     ]
    }
   ],
   "source": [
    "estimator = Pipeline([(\"tfidf\", TfidfVectorizer(ngram_range=(1, 2))), (\"svm\", SVC())])\n",
    "estimator.fit(X_train, y_train)\n",
    "score = estimator.score(X_test, y_test)\n",
    "print(score)"
   ]
  },
  {
   "cell_type": "markdown",
   "id": "058ab97b-6e95-4916-8705-0bf81201d40a",
   "metadata": {},
   "source": [
    "## Con el preprocesamiento completo (con stemming)"
   ]
  },
  {
   "cell_type": "code",
   "execution_count": 19,
   "id": "980a0a3c-1cf4-4773-aa90-995ca0c71f08",
   "metadata": {},
   "outputs": [],
   "source": [
    "import nltk\n",
    "from nltk.corpus import stopwords\n",
    "from nltk.stem import PorterStemmer\n",
    "from nltk.tokenize import TweetTokenizer\n",
    "import numpy as np\n",
    "import re\n",
    "import string"
   ]
  },
  {
   "cell_type": "code",
   "execution_count": 20,
   "id": "d1faf8a5-1baf-4f04-88bf-67d3313b9461",
   "metadata": {},
   "outputs": [
    {
     "name": "stderr",
     "output_type": "stream",
     "text": [
      "[nltk_data] Downloading package stopwords to\n",
      "[nltk_data]     C:\\Users\\Marti\\AppData\\Roaming\\nltk_data...\n",
      "[nltk_data]   Unzipping corpora\\stopwords.zip.\n"
     ]
    },
    {
     "data": {
      "text/plain": [
       "True"
      ]
     },
     "execution_count": 20,
     "metadata": {},
     "output_type": "execute_result"
    }
   ],
   "source": [
    "nltk.download('stopwords')"
   ]
  },
  {
   "cell_type": "code",
   "execution_count": 21,
   "id": "50009191-09c1-4f4a-8a47-aa53f04581db",
   "metadata": {},
   "outputs": [],
   "source": [
    "def process_tweet(tweet, lang='english'):\n",
    "    \"\"\"Process tweet function.\n",
    "    Input:\n",
    "        tweet: a string containing a tweet\n",
    "        lang: language, default='english'\n",
    "    Output:\n",
    "        A list of words containing the processed tweet\n",
    "\n",
    "    \"\"\"\n",
    "    stemmer = PorterStemmer()\n",
    "    stopwords_english = stopwords.words(lang)\n",
    "    tweet = re.sub(r'\\$\\w*', '', tweet)\n",
    "    tweet = re.sub(r'^RT[\\s]+', '', tweet)\n",
    "    tweet = re.sub(r'https?://[^\\s\\n\\r]+', '', tweet)\n",
    "    tweet = re.sub(r'#', '', tweet)\n",
    "    tokenizer = TweetTokenizer(preserve_case=False, strip_handles=True, reduce_len=True)\n",
    "    tweet_tokens = tokenizer.tokenize(tweet)\n",
    "    tweets_clean = []\n",
    "    for word in tweet_tokens:\n",
    "        if (word not in stopwords_english and word not in string.punctuation):\n",
    "            stem_word = stemmer.stem(word)\n",
    "            tweets_clean.append(stem_word)\n",
    "    return tweets_clean"
   ]
  },
  {
   "cell_type": "code",
   "execution_count": 22,
   "id": "3715f03d-ab3c-45ab-926d-52dc20d3534a",
   "metadata": {},
   "outputs": [],
   "source": [
    "def build_freqs(tweets, ys):\n",
    "    \"\"\"Build frequencies.\n",
    "    Input:\n",
    "        tweets: a list of tweets\n",
    "        ys: an m x 1 array with the sentiment label of each tweet (either 0 or 1)\n",
    "    Output:\n",
    "        A dictionary mapping each (word, sentiment) pair to its frequency\n",
    "    \"\"\"\n",
    "    yslist = np.squeeze(ys).tolist()\n",
    "    freqs = {}\n",
    "    for y, tweet in zip(yslist, tweets):\n",
    "        for word in process_tweet(tweet):\n",
    "            freqs[(word, y)] = freqs.get((word, y), 0) + 1\n",
    "    return freqs"
   ]
  },
  {
   "cell_type": "code",
   "execution_count": 23,
   "id": "f6fef3a0-d3a5-4e5d-ad6c-ac1e45233534",
   "metadata": {},
   "outputs": [],
   "source": [
    "def extract_features(tweet, freqs, process_tweet=process_tweet):\n",
    "    '''\n",
    "    Input: \n",
    "        tweet: a string containing one tweet\n",
    "        freqs: a dictionary corresponding to the frequencies of each tuple (word, label)\n",
    "        process_tweet: process tweet function. Default: process_tweet\n",
    "    Output: \n",
    "        A feature vector of dimension (1, 2)\n",
    "    '''\n",
    "    word_l = process_tweet(tweet)\n",
    "    x = np.zeros(2) \n",
    "    for word in word_l:\n",
    "        x[0] += freqs.get((word, 1), 0)\n",
    "        x[1] += freqs.get((word, 0), 0)\n",
    "    x = x[None, :]\n",
    "    return x"
   ]
  },
  {
   "cell_type": "code",
   "execution_count": 24,
   "id": "e3de067a-78ac-4405-954e-6dd14e293dff",
   "metadata": {},
   "outputs": [],
   "source": [
    "freqs = build_freqs(tweets, labels)\n",
    "X = np.zeros((len(tweets), 2))\n",
    "for i in range(len(tweets)):\n",
    "    X[i, :]= extract_features(tweets[i], freqs)\n",
    "y = labels"
   ]
  },
  {
   "cell_type": "code",
   "execution_count": 25,
   "id": "18bec994-5453-41f2-841b-62c84e4f2536",
   "metadata": {},
   "outputs": [],
   "source": [
    "X_train, X_test, y_train, y_test = train_test_split(X, y, test_size=0.2, stratify=y)"
   ]
  },
  {
   "cell_type": "code",
   "execution_count": 26,
   "id": "eb535074-f49d-488b-97e1-65436d2cd067",
   "metadata": {},
   "outputs": [],
   "source": [
    "from sklearn.preprocessing import StandardScaler"
   ]
  },
  {
   "cell_type": "code",
   "execution_count": 27,
   "id": "e49fa8c1-ed3b-4d4e-a40e-8de15ca4ef01",
   "metadata": {},
   "outputs": [
    {
     "name": "stdout",
     "output_type": "stream",
     "text": [
      "0.991\n"
     ]
    }
   ],
   "source": [
    "estimator = Pipeline([(\"std\", StandardScaler()), (\"svm\", SVC())])\n",
    "estimator.fit(X_train, y_train)\n",
    "score = estimator.score(X_test, y_test)\n",
    "print(score)"
   ]
  },
  {
   "cell_type": "code",
   "execution_count": null,
   "id": "2d025831",
   "metadata": {},
   "outputs": [],
   "source": []
  }
 ],
 "metadata": {
  "kernelspec": {
   "display_name": "nlp",
   "language": "python",
   "name": "python3"
  },
  "language_info": {
   "codemirror_mode": {
    "name": "ipython",
    "version": 3
   },
   "file_extension": ".py",
   "mimetype": "text/x-python",
   "name": "python",
   "nbconvert_exporter": "python",
   "pygments_lexer": "ipython3",
   "version": "3.12.2"
  }
 },
 "nbformat": 4,
 "nbformat_minor": 5
}
